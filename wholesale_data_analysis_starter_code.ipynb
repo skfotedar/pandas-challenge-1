{
 "cells": [
  {
   "cell_type": "markdown",
   "id": "dc0318d6",
   "metadata": {},
   "source": [
    "## Part 1: Explore the Data\n",
    "\n",
    "Import the data and use Pandas to learn more about the dataset."
   ]
  },
  {
   "cell_type": "code",
   "execution_count": 65,
   "id": "e076f57f",
   "metadata": {},
   "outputs": [
    {
     "data": {
      "text/html": [
       "<div>\n",
       "<style scoped>\n",
       "    .dataframe tbody tr th:only-of-type {\n",
       "        vertical-align: middle;\n",
       "    }\n",
       "\n",
       "    .dataframe tbody tr th {\n",
       "        vertical-align: top;\n",
       "    }\n",
       "\n",
       "    .dataframe thead th {\n",
       "        text-align: right;\n",
       "    }\n",
       "</style>\n",
       "<table border=\"1\" class=\"dataframe\">\n",
       "  <thead>\n",
       "    <tr style=\"text-align: right;\">\n",
       "      <th></th>\n",
       "      <th>first</th>\n",
       "      <th>last</th>\n",
       "      <th>job</th>\n",
       "      <th>phone</th>\n",
       "      <th>email</th>\n",
       "      <th>client_id</th>\n",
       "      <th>order_id</th>\n",
       "      <th>order_date</th>\n",
       "      <th>order_week</th>\n",
       "      <th>order_year</th>\n",
       "      <th>item_id</th>\n",
       "      <th>category</th>\n",
       "      <th>subcategory</th>\n",
       "      <th>unit_price</th>\n",
       "      <th>unit_cost</th>\n",
       "      <th>unit_weight</th>\n",
       "      <th>qty</th>\n",
       "      <th>line_number</th>\n",
       "    </tr>\n",
       "  </thead>\n",
       "  <tbody>\n",
       "    <tr>\n",
       "      <th>0</th>\n",
       "      <td>Donald</td>\n",
       "      <td>Harding</td>\n",
       "      <td>Immunologist</td>\n",
       "      <td>793-904-7725x39308</td>\n",
       "      <td>harding.donald.7185@sullivan.com</td>\n",
       "      <td>58515</td>\n",
       "      <td>8953482</td>\n",
       "      <td>2023-04-28</td>\n",
       "      <td>17</td>\n",
       "      <td>2023</td>\n",
       "      <td>EUD29711-63-6U</td>\n",
       "      <td>decor</td>\n",
       "      <td>wall art</td>\n",
       "      <td>1096.80</td>\n",
       "      <td>762.71</td>\n",
       "      <td>7.50</td>\n",
       "      <td>105</td>\n",
       "      <td>1</td>\n",
       "    </tr>\n",
       "    <tr>\n",
       "      <th>1</th>\n",
       "      <td>Tiffany</td>\n",
       "      <td>Myers</td>\n",
       "      <td>Music therapist</td>\n",
       "      <td>201.442.4543x942</td>\n",
       "      <td>myers.t.6537@ferguson-johnson.net</td>\n",
       "      <td>37609</td>\n",
       "      <td>8069089</td>\n",
       "      <td>2023-05-19</td>\n",
       "      <td>20</td>\n",
       "      <td>2023</td>\n",
       "      <td>XDA18116-89-4A</td>\n",
       "      <td>consumables</td>\n",
       "      <td>pens</td>\n",
       "      <td>24.95</td>\n",
       "      <td>15.09</td>\n",
       "      <td>1.49</td>\n",
       "      <td>21</td>\n",
       "      <td>0</td>\n",
       "    </tr>\n",
       "    <tr>\n",
       "      <th>2</th>\n",
       "      <td>Shannon</td>\n",
       "      <td>Watson</td>\n",
       "      <td>Immunologist</td>\n",
       "      <td>687.737.9424x8503</td>\n",
       "      <td>swatson8146@payne.net</td>\n",
       "      <td>57113</td>\n",
       "      <td>1902144</td>\n",
       "      <td>2023-01-29</td>\n",
       "      <td>4</td>\n",
       "      <td>2023</td>\n",
       "      <td>ABE59463-05-7E</td>\n",
       "      <td>software</td>\n",
       "      <td>project management</td>\n",
       "      <td>13.52</td>\n",
       "      <td>7.86</td>\n",
       "      <td>1.68</td>\n",
       "      <td>39</td>\n",
       "      <td>6</td>\n",
       "    </tr>\n",
       "    <tr>\n",
       "      <th>3</th>\n",
       "      <td>Nathan</td>\n",
       "      <td>Baker</td>\n",
       "      <td>Accounting technician</td>\n",
       "      <td>827-788-8123x012</td>\n",
       "      <td>bakernathan@benson.com</td>\n",
       "      <td>46554</td>\n",
       "      <td>9031802</td>\n",
       "      <td>2023-04-25</td>\n",
       "      <td>17</td>\n",
       "      <td>2023</td>\n",
       "      <td>ZMM00836-65-0C</td>\n",
       "      <td>consumables</td>\n",
       "      <td>pens</td>\n",
       "      <td>36.42</td>\n",
       "      <td>24.85</td>\n",
       "      <td>1.23</td>\n",
       "      <td>29</td>\n",
       "      <td>3</td>\n",
       "    </tr>\n",
       "    <tr>\n",
       "      <th>4</th>\n",
       "      <td>Christina</td>\n",
       "      <td>Schwartz</td>\n",
       "      <td>Chiropractor</td>\n",
       "      <td>265-829-3643</td>\n",
       "      <td>christinaschwartz9252@mcconnell.com</td>\n",
       "      <td>92089</td>\n",
       "      <td>1322274</td>\n",
       "      <td>2023-05-28</td>\n",
       "      <td>21</td>\n",
       "      <td>2023</td>\n",
       "      <td>BZX55559-12-3X</td>\n",
       "      <td>consumables</td>\n",
       "      <td>misc</td>\n",
       "      <td>195.10</td>\n",
       "      <td>108.17</td>\n",
       "      <td>46.43</td>\n",
       "      <td>20</td>\n",
       "      <td>1</td>\n",
       "    </tr>\n",
       "  </tbody>\n",
       "</table>\n",
       "</div>"
      ],
      "text/plain": [
       "       first      last                    job               phone  \\\n",
       "0     Donald   Harding           Immunologist  793-904-7725x39308   \n",
       "1    Tiffany     Myers        Music therapist    201.442.4543x942   \n",
       "2    Shannon    Watson           Immunologist   687.737.9424x8503   \n",
       "3     Nathan     Baker  Accounting technician    827-788-8123x012   \n",
       "4  Christina  Schwartz           Chiropractor        265-829-3643   \n",
       "\n",
       "                                 email  client_id  order_id  order_date  \\\n",
       "0     harding.donald.7185@sullivan.com      58515   8953482  2023-04-28   \n",
       "1    myers.t.6537@ferguson-johnson.net      37609   8069089  2023-05-19   \n",
       "2                swatson8146@payne.net      57113   1902144  2023-01-29   \n",
       "3               bakernathan@benson.com      46554   9031802  2023-04-25   \n",
       "4  christinaschwartz9252@mcconnell.com      92089   1322274  2023-05-28   \n",
       "\n",
       "   order_week  order_year         item_id     category         subcategory  \\\n",
       "0          17        2023  EUD29711-63-6U        decor            wall art   \n",
       "1          20        2023  XDA18116-89-4A  consumables                pens   \n",
       "2           4        2023  ABE59463-05-7E     software  project management   \n",
       "3          17        2023  ZMM00836-65-0C  consumables                pens   \n",
       "4          21        2023  BZX55559-12-3X  consumables                misc   \n",
       "\n",
       "   unit_price  unit_cost  unit_weight  qty  line_number  \n",
       "0     1096.80     762.71         7.50  105            1  \n",
       "1       24.95      15.09         1.49   21            0  \n",
       "2       13.52       7.86         1.68   39            6  \n",
       "3       36.42      24.85         1.23   29            3  \n",
       "4      195.10     108.17        46.43   20            1  "
      ]
     },
     "execution_count": 65,
     "metadata": {},
     "output_type": "execute_result"
    }
   ],
   "source": [
    "import pandas as pd\n",
    "import numpy as np\n",
    "\n",
    "df = pd.read_csv('Resources/client_dataset.csv')\n",
    "\n",
    "df.head()"
   ]
  },
  {
   "cell_type": "code",
   "execution_count": 66,
   "id": "71b9bbd2",
   "metadata": {},
   "outputs": [
    {
     "name": "stdout",
     "output_type": "stream",
     "text": [
      "['decor' 'consumables' 'software' 'furniture' 'electronics']\n"
     ]
    }
   ],
   "source": [
    "# View the column names in the data\n",
    "list(df.columns)\n",
    "print(f\"{df['category'].unique()}\")\n",
    "\n",
    "\n"
   ]
  },
  {
   "cell_type": "code",
   "execution_count": 67,
   "id": "bc0f4172",
   "metadata": {},
   "outputs": [
    {
     "data": {
      "text/html": [
       "<div>\n",
       "<style scoped>\n",
       "    .dataframe tbody tr th:only-of-type {\n",
       "        vertical-align: middle;\n",
       "    }\n",
       "\n",
       "    .dataframe tbody tr th {\n",
       "        vertical-align: top;\n",
       "    }\n",
       "\n",
       "    .dataframe thead th {\n",
       "        text-align: right;\n",
       "    }\n",
       "</style>\n",
       "<table border=\"1\" class=\"dataframe\">\n",
       "  <thead>\n",
       "    <tr style=\"text-align: right;\">\n",
       "      <th></th>\n",
       "      <th>client_id</th>\n",
       "      <th>order_id</th>\n",
       "      <th>order_week</th>\n",
       "      <th>order_year</th>\n",
       "      <th>unit_price</th>\n",
       "      <th>unit_cost</th>\n",
       "      <th>unit_weight</th>\n",
       "      <th>qty</th>\n",
       "      <th>line_number</th>\n",
       "    </tr>\n",
       "  </thead>\n",
       "  <tbody>\n",
       "    <tr>\n",
       "      <th>count</th>\n",
       "      <td>54639.000000</td>\n",
       "      <td>5.463900e+04</td>\n",
       "      <td>54639.000000</td>\n",
       "      <td>54639.000000</td>\n",
       "      <td>54639.000000</td>\n",
       "      <td>54639.000000</td>\n",
       "      <td>54639.000000</td>\n",
       "      <td>5.463900e+04</td>\n",
       "      <td>54639.000000</td>\n",
       "    </tr>\n",
       "    <tr>\n",
       "      <th>mean</th>\n",
       "      <td>54837.869416</td>\n",
       "      <td>5.470190e+06</td>\n",
       "      <td>11.359139</td>\n",
       "      <td>2022.993064</td>\n",
       "      <td>136.267207</td>\n",
       "      <td>99.446073</td>\n",
       "      <td>5.004116</td>\n",
       "      <td>5.702646e+02</td>\n",
       "      <td>2.979667</td>\n",
       "    </tr>\n",
       "    <tr>\n",
       "      <th>std</th>\n",
       "      <td>25487.438231</td>\n",
       "      <td>2.599807e+06</td>\n",
       "      <td>7.023499</td>\n",
       "      <td>0.082997</td>\n",
       "      <td>183.873135</td>\n",
       "      <td>133.164267</td>\n",
       "      <td>5.326599</td>\n",
       "      <td>1.879552e+04</td>\n",
       "      <td>2.436320</td>\n",
       "    </tr>\n",
       "    <tr>\n",
       "      <th>min</th>\n",
       "      <td>10033.000000</td>\n",
       "      <td>1.000886e+06</td>\n",
       "      <td>1.000000</td>\n",
       "      <td>2022.000000</td>\n",
       "      <td>0.010000</td>\n",
       "      <td>0.010000</td>\n",
       "      <td>0.000000</td>\n",
       "      <td>0.000000e+00</td>\n",
       "      <td>0.000000</td>\n",
       "    </tr>\n",
       "    <tr>\n",
       "      <th>25%</th>\n",
       "      <td>33593.000000</td>\n",
       "      <td>3.196372e+06</td>\n",
       "      <td>6.000000</td>\n",
       "      <td>2023.000000</td>\n",
       "      <td>20.800000</td>\n",
       "      <td>14.840000</td>\n",
       "      <td>1.450000</td>\n",
       "      <td>3.200000e+01</td>\n",
       "      <td>1.000000</td>\n",
       "    </tr>\n",
       "    <tr>\n",
       "      <th>50%</th>\n",
       "      <td>53305.000000</td>\n",
       "      <td>5.496966e+06</td>\n",
       "      <td>11.000000</td>\n",
       "      <td>2023.000000</td>\n",
       "      <td>68.310000</td>\n",
       "      <td>49.890000</td>\n",
       "      <td>3.240000</td>\n",
       "      <td>6.800000e+01</td>\n",
       "      <td>3.000000</td>\n",
       "    </tr>\n",
       "    <tr>\n",
       "      <th>75%</th>\n",
       "      <td>78498.000000</td>\n",
       "      <td>7.733869e+06</td>\n",
       "      <td>17.000000</td>\n",
       "      <td>2023.000000</td>\n",
       "      <td>173.160000</td>\n",
       "      <td>125.570000</td>\n",
       "      <td>6.890000</td>\n",
       "      <td>1.700000e+02</td>\n",
       "      <td>5.000000</td>\n",
       "    </tr>\n",
       "    <tr>\n",
       "      <th>max</th>\n",
       "      <td>99984.000000</td>\n",
       "      <td>9.998480e+06</td>\n",
       "      <td>52.000000</td>\n",
       "      <td>2023.000000</td>\n",
       "      <td>1396.230000</td>\n",
       "      <td>846.270000</td>\n",
       "      <td>46.430000</td>\n",
       "      <td>3.958244e+06</td>\n",
       "      <td>9.000000</td>\n",
       "    </tr>\n",
       "  </tbody>\n",
       "</table>\n",
       "</div>"
      ],
      "text/plain": [
       "          client_id      order_id    order_week    order_year    unit_price  \\\n",
       "count  54639.000000  5.463900e+04  54639.000000  54639.000000  54639.000000   \n",
       "mean   54837.869416  5.470190e+06     11.359139   2022.993064    136.267207   \n",
       "std    25487.438231  2.599807e+06      7.023499      0.082997    183.873135   \n",
       "min    10033.000000  1.000886e+06      1.000000   2022.000000      0.010000   \n",
       "25%    33593.000000  3.196372e+06      6.000000   2023.000000     20.800000   \n",
       "50%    53305.000000  5.496966e+06     11.000000   2023.000000     68.310000   \n",
       "75%    78498.000000  7.733869e+06     17.000000   2023.000000    173.160000   \n",
       "max    99984.000000  9.998480e+06     52.000000   2023.000000   1396.230000   \n",
       "\n",
       "          unit_cost   unit_weight           qty   line_number  \n",
       "count  54639.000000  54639.000000  5.463900e+04  54639.000000  \n",
       "mean      99.446073      5.004116  5.702646e+02      2.979667  \n",
       "std      133.164267      5.326599  1.879552e+04      2.436320  \n",
       "min        0.010000      0.000000  0.000000e+00      0.000000  \n",
       "25%       14.840000      1.450000  3.200000e+01      1.000000  \n",
       "50%       49.890000      3.240000  6.800000e+01      3.000000  \n",
       "75%      125.570000      6.890000  1.700000e+02      5.000000  \n",
       "max      846.270000     46.430000  3.958244e+06      9.000000  "
      ]
     },
     "execution_count": 67,
     "metadata": {},
     "output_type": "execute_result"
    }
   ],
   "source": [
    "# Use the describe function to gather some basic statistics\n",
    "df.describe()"
   ]
  },
  {
   "cell_type": "code",
   "execution_count": 68,
   "id": "b24b53cc",
   "metadata": {},
   "outputs": [
    {
     "data": {
      "text/plain": [
       "first          DonaldTiffanyShannonNathanChristinaJessicaBria...\n",
       "last           HardingMyersWatsonBakerSchwartzReyesMooreWrigh...\n",
       "job            ImmunologistMusic therapistImmunologistAccount...\n",
       "phone          793-904-7725x39308201.442.4543x942687.737.9424...\n",
       "email          harding.donald.7185@sullivan.commyers.t.6537@f...\n",
       "client_id                                             2996286347\n",
       "order_id                                            298885713037\n",
       "order_date     2023-04-282023-05-192023-01-292023-04-252023-0...\n",
       "order_week                                                620652\n",
       "order_year                                             110534318\n",
       "item_id        EUD29711-63-6UXDA18116-89-4AABE59463-05-7EZMM0...\n",
       "category       decorconsumablessoftwareconsumablesconsumables...\n",
       "subcategory    wall artpensproject managementpensmiscplantski...\n",
       "unit_price                                            7445503.92\n",
       "unit_cost                                             5433633.97\n",
       "unit_weight                                            273419.91\n",
       "qty                                                     31158688\n",
       "line_number                                               162806\n",
       "dtype: object"
      ]
     },
     "execution_count": 68,
     "metadata": {},
     "output_type": "execute_result"
    }
   ],
   "source": [
    "# Use this space to do any additional research\n",
    "# and familiarize yourself with the data.\n",
    "# what is the format of the phone numbers entered?\n",
    "#print(f\"{df['phone']}\")\n",
    "\n",
    "#check to see if the data in 'category' column is standrardized\n",
    "df.count()\n",
    "df = df.dropna(how=\"any\")\n",
    "df.count()\n",
    "df.sum()\n",
    "#print(f\"{df['category']}\")\n",
    "#print(f\"{df['category'].unique()}\")\n",
    "\n",
    "\n",
    "\n",
    "\n",
    "\n"
   ]
  },
  {
   "cell_type": "code",
   "execution_count": 69,
   "id": "551cb358",
   "metadata": {},
   "outputs": [
    {
     "name": "stdout",
     "output_type": "stream",
     "text": [
      "{'consumables': 23538, 'furniture': 11915, 'software': 8400}\n"
     ]
    }
   ],
   "source": [
    "# What three item categories had the most entries?\n",
    "temp = dict(df.value_counts(df[\"category\"]).nlargest(3))\n",
    "print(f\"{temp}\")\n"
   ]
  },
  {
   "cell_type": "code",
   "execution_count": 70,
   "id": "5f54e2cf",
   "metadata": {},
   "outputs": [
    {
     "name": "stdout",
     "output_type": "stream",
     "text": [
      "{'bathroom supplies': 6424}\n"
     ]
    }
   ],
   "source": [
    "# For the category with the most entries,\n",
    "# which subcategory had the most entries?\n",
    "temp = dict(df.value_counts(df[\"subcategory\"]).nlargest(1))\n",
    "print(f\"{temp}\")\n"
   ]
  },
  {
   "cell_type": "code",
   "execution_count": 71,
   "id": "2db94379",
   "metadata": {},
   "outputs": [
    {
     "data": {
      "text/plain": [
       "client_id\n",
       "33615    220\n",
       "66037    211\n",
       "46820    209\n",
       "38378    207\n",
       "24741    207\n",
       "Name: count, dtype: int64"
      ]
     },
     "execution_count": 71,
     "metadata": {},
     "output_type": "execute_result"
    }
   ],
   "source": [
    "# Which five clients had the most entries in the data?\n",
    "df.value_counts(df[\"client_id\"]).nlargest(5)\n"
   ]
  },
  {
   "cell_type": "code",
   "execution_count": 72,
   "id": "a6635601",
   "metadata": {},
   "outputs": [
    {
     "name": "stdout",
     "output_type": "stream",
     "text": [
      "33615\n",
      "66037\n",
      "46820\n",
      "38378\n",
      "24741\n"
     ]
    },
    {
     "data": {
      "text/plain": [
       "[None, None, None, None, None]"
      ]
     },
     "execution_count": 72,
     "metadata": {},
     "output_type": "execute_result"
    }
   ],
   "source": [
    "#Store the client ids of those top 5 clients in a list.\n",
    "top_five_clients = dict(df.value_counts(df[\"client_id\"]).nlargest(5))\n",
    "[print(f\"{key}\") for key in top_five_clients.keys()]\n",
    "\n"
   ]
  },
  {
   "cell_type": "code",
   "execution_count": 73,
   "id": "c88b8a3e",
   "metadata": {},
   "outputs": [
    {
     "data": {
      "text/plain": [
       "64313"
      ]
     },
     "execution_count": 73,
     "metadata": {},
     "output_type": "execute_result"
    }
   ],
   "source": [
    "# How many total units (the qty column) did the\n",
    "# client with the most entries order order?\n",
    "top_client_dict = dict(df.value_counts(df[\"client_id\"]).nlargest(1))\n",
    "top_client = list(top_client_dict.keys())[0]\n",
    "top_client_df = df.loc[df[\"client_id\"] == top_client]\n",
    "top_client_df['qty'].sum()\n"
   ]
  },
  {
   "cell_type": "markdown",
   "id": "257fcd7d",
   "metadata": {},
   "source": [
    "## Part 2: Transform the Data\n",
    "Do we know that this client spent the more money than client 66037? If not, how would we find out? Transform the data using the steps below to prepare it for analysis."
   ]
  },
  {
   "cell_type": "code",
   "execution_count": 74,
   "id": "0c25c4a8",
   "metadata": {},
   "outputs": [],
   "source": [
    "# Create a column that calculates the \n",
    "# subtotal for each line using the unit_price\n",
    "# and the qty\n",
    "df['subtotal$'] = df.apply(lambda _:'', axis=1)\n",
    "count_row = int(df.shape[0])\n",
    "for i in range(0,count_row):\n",
    "    df.loc[i,'subtotal$']=df['unit_price'][i]*df['qty'][i]\n",
    "\n"
   ]
  },
  {
   "cell_type": "code",
   "execution_count": 75,
   "id": "ac9dafc8",
   "metadata": {},
   "outputs": [],
   "source": [
    "# Create a column for shipping price.\n",
    "# Assume a shipping price of $7 per pound\n",
    "# for orders over 50 pounds and $10 per\n",
    "# pound for items 50 pounds or under.\n",
    "df['shippingPrice'] = df.apply(lambda _:'', axis=1)\n",
    "count_row = int(df.shape[0])\n",
    "for i in range(0,count_row):\n",
    "    order_weight = df['unit_weight'][i]*df['qty'][i]\n",
    "    df.loc[i,'shippingPrice']=10*order_weight\n",
    "    if (order_weight>50):\n",
    "        df.loc[i,'shippingPrice']=7*order_weight\n",
    " \n",
    "    \n",
    " \n",
    "\n"
   ]
  },
  {
   "cell_type": "code",
   "execution_count": 76,
   "id": "77f42c67",
   "metadata": {},
   "outputs": [],
   "source": [
    "# Create a column for the total price\n",
    "# using the subtotal and the shipping price\n",
    "# along with a sales tax of 9.25%\n",
    "df['totalPrice'] = df.apply(lambda _:'', axis=1)\n",
    "count_row = int(df.shape[0])\n",
    "for i in range(0,count_row):\n",
    "    df.loc[i,'totalPrice']=1.0925*((df['shippingPrice'][i]+df['subtotal$'][i]))\n",
    "\n"
   ]
  },
  {
   "cell_type": "code",
   "execution_count": 77,
   "id": "c82ad275",
   "metadata": {},
   "outputs": [],
   "source": [
    "# Create a column for the cost\n",
    "# of each line using unit cost, qty, and\n",
    "# shipping price (assume the shipping cost\n",
    "# is exactly what is charged to the client).\n",
    "df['totalCost'] = df.apply(lambda _:'', axis=1)\n",
    "count_row = int(df.shape[0])\n",
    "for i in range(0,count_row):\n",
    "    df.loc[i,'totalCost']=df['shippingPrice'][i]+df['unit_cost'][i]*df['qty'][i]\n"
   ]
  },
  {
   "cell_type": "code",
   "execution_count": 78,
   "id": "e2389018",
   "metadata": {},
   "outputs": [],
   "source": [
    "# Create a column for the profit of\n",
    "# each line using line cost and line price\n",
    "df['profit'] = df.apply(lambda _:'', axis=1)\n",
    "count_row = int(df.shape[0])\n",
    "for i in range(0,count_row):\n",
    "    df.loc[i,'profit']= df['totalPrice'][i] - df['totalCost'][i]\n"
   ]
  },
  {
   "cell_type": "markdown",
   "id": "ef6f62b1",
   "metadata": {},
   "source": [
    "## Part 3: Confirm your work\n",
    "You have email receipts showing that the total prices for 3 orders. Confirm that your calculations match the receipts. Remember, each order has multiple lines.\n",
    "\n",
    "Order ID 2742071 had a total price of \\$152,811.89\n",
    "\n",
    "Order ID 2173913 had a total price of \\$162,388.71\n",
    "\n",
    "Order ID 6128929 had a total price of \\$923,441.25\n"
   ]
  },
  {
   "cell_type": "code",
   "execution_count": 79,
   "id": "c0e5d68e",
   "metadata": {},
   "outputs": [
    {
     "name": "stdout",
     "output_type": "stream",
     "text": [
      "Order ID 2742071 had a total price of $152,811.90\n",
      "Order ID 2173913 had a total price of $162,388.72\n",
      "Order ID 6128929 had a total price of $923,441.24\n"
     ]
    }
   ],
   "source": [
    "# Check your work using the totals above\n",
    "order_id_df1 = df.loc[df['order_id'] == 2742071]\n",
    "print(f\"Order ID 2742071 had a total price of ${order_id_df1['totalPrice'].sum():,.2f}\")\n",
    "order_id_df1 = df.loc[df['order_id'] == 2173913]\n",
    "print(f\"Order ID 2173913 had a total price of ${order_id_df1['totalPrice'].sum():,.2f}\")\n",
    "order_id_df1 = df.loc[df['order_id'] == 6128929]\n",
    "print(f\"Order ID 6128929 had a total price of ${order_id_df1['totalPrice'].sum():,.2f}\")\n"
   ]
  },
  {
   "cell_type": "markdown",
   "id": "13c5d983",
   "metadata": {},
   "source": []
  },
  {
   "cell_type": "markdown",
   "id": "b94d58ab",
   "metadata": {},
   "source": [
    "## Part 4: Summarize and Analyze\n",
    "Use the new columns with confirmed values to find the following information."
   ]
  },
  {
   "cell_type": "code",
   "execution_count": 80,
   "id": "7c005f34",
   "metadata": {},
   "outputs": [
    {
     "name": "stdout",
     "output_type": "stream",
     "text": [
      "33615: $8,377,308.57\n",
      "66037: $10,259,514.80\n",
      "46820: $9,743,794.32\n",
      "38378: $12,906,550.88\n",
      "24741: $82,268,891.98\n"
     ]
    }
   ],
   "source": [
    "# How much did each of the top 5 clients by quantity\n",
    "# spend? Check your work from Part 1 for client ids.\n",
    "for client in top_five_clients:\n",
    "   client_df = df.loc[df['client_id'] == client, 'totalPrice']\n",
    "   print(f\"{client}: ${client_df.sum():,.2f}\")\n",
    "   \n",
    "  "
   ]
  },
  {
   "cell_type": "code",
   "execution_count": 81,
   "id": "81b6e4d2",
   "metadata": {},
   "outputs": [
    {
     "name": "stdout",
     "output_type": "stream",
     "text": [
      "    client  total units  total shipping price  total revenue   total cost  \\\n",
      "4  24741.0     239862.0            5126448.37   8.226889e+07  45688899.71   \n",
      "3  38378.0      73667.0            3429455.40   1.290655e+07   9634720.98   \n",
      "1  66037.0      43018.0            1395151.85   1.025951e+07   7004482.98   \n",
      "2  46820.0      75768.0            1601448.84   9.743794e+06   7007191.64   \n",
      "0  33615.0      64313.0            1828984.89   8.377309e+06   6175313.91   \n",
      "\n",
      "   total profit  \n",
      "4  3.657999e+07  \n",
      "3  3.271830e+06  \n",
      "1  3.255032e+06  \n",
      "2  2.736603e+06  \n",
      "0  2.201995e+06  \n"
     ]
    }
   ],
   "source": [
    "# Create a summary DataFrame showing the totals for the\n",
    "# for the top 5 clients with the following information:\n",
    "# total units purchased, total shipping price,\n",
    "# total revenue, and total profit. Sort by total profit.\n",
    "\n",
    "#top_five_clients\n",
    "client_df1 = pd.DataFrame()\n",
    "client_df1['client'] = client_df1.apply(lambda _:0, axis=1)\n",
    "client_df1['total units'] = client_df1.apply(lambda _:0, axis=1)\n",
    "client_df1['total shipping price'] = client_df1.apply(lambda _:0, axis=1)\n",
    "client_df1['total revenue'] = client_df1.apply(lambda _:0, axis=1)\n",
    "client_df1['total cost'] = client_df1.apply(lambda _:0,axis=1)\n",
    "client_df1['total profit'] = client_df1.apply(lambda _:0, axis=1)\n",
    "\n",
    "x=0\n",
    "for client in top_five_clients:\n",
    "    client_df1.loc[x,\"client\"] = int(client)\n",
    "    client_df1.loc[x,\"total units\"]= df.loc[df['client_id'] == client, 'qty'].sum()\n",
    "    client_df1.loc[x,\"total shipping price\"]= df.loc[df['client_id'] == client, 'shippingPrice'].sum()\n",
    "    client_df1.loc[x,\"total revenue\"]= df.loc[df['client_id'] == client, 'totalPrice'].sum()\n",
    "    client_df1.loc[x,'total cost'] = df.loc[df['client_id'] == client, 'totalCost'].sum()\n",
    "    client_df1.loc[x,\"total profit\"]= df.loc[df['client_id'] == client, 'profit'].sum()\n",
    "    x+=1\n",
    "\n",
    "\n",
    "client_df1 = client_df1.sort_values(by=\"total profit\", ascending=False)\n",
    "print(f\"{client_df1}\")"
   ]
  },
  {
   "cell_type": "code",
   "execution_count": 82,
   "id": "7be02867",
   "metadata": {},
   "outputs": [
    {
     "name": "stdout",
     "output_type": "stream",
     "text": [
      "   ClientID     Units  Shipping$  Revenue$  Cost$  Profit$\n",
      "4   24741.0  239862.0       5.13     82.27  45.69    36.58\n",
      "3   38378.0   73667.0       3.43     12.91   9.63     3.27\n",
      "1   66037.0   43018.0       1.40     10.26   7.00     3.26\n",
      "2   46820.0   75768.0       1.60      9.74   7.01     2.74\n",
      "0   33615.0   64313.0       1.83      8.38   6.18     2.20\n"
     ]
    }
   ],
   "source": [
    "# Format the data and rename the columns\n",
    "# to names suitable for presentation.\n",
    "# Currency should be in millions of dollars.\n",
    "\n",
    "x=0\n",
    "count = len(client_df1)\n",
    "for x in range(0,count):\n",
    "    client_df1.loc[x,\"total units\"]= round(client_df1.loc[x,\"total units\"],0)\n",
    "    client_df1.loc[x,\"total shipping price\"]= round(client_df1.loc[x,\"total shipping price\"]/1000000,2)\n",
    "    client_df1.loc[x,\"total revenue\"]= round(client_df1.loc[x,\"total revenue\"]/1000000,2)\n",
    "    client_df1.loc[x,\"total cost\"]= round(client_df1.loc[x,\"total cost\"]/1000000,2)\n",
    "    client_df1.loc[x,\"total profit\"] = round(client_df1.loc[x,\"total profit\"]/1000000,2)\n",
    "    x+=1\n",
    "\n",
    "\n",
    "client_df1 = client_df1.rename(columns ={\"client\":\"ClientID\", \n",
    "                                         \"total units\":\"Units\", \n",
    "                                         \"total shipping price\":\"Shipping$\",\n",
    "                                         \"total revenue\":\"Revenue$\",\n",
    "                                         \"total cost\" : \"Cost$\",\n",
    "                                         \"total profit\" :\"Profit$\"})\n",
    "\n",
    "\n",
    "\n",
    "print(f\"{client_df1}\")\n",
    "\n"
   ]
  },
  {
   "cell_type": "code",
   "execution_count": 84,
   "id": "8ead0986",
   "metadata": {},
   "outputs": [
    {
     "name": "stdout",
     "output_type": "stream",
     "text": [
      "ClientID Units Shipping$ Revenue$ Cost$ Profit$\n",
      "24741\t239,862\t$5.13\t$82.27\t $45.69\t$36.58\n",
      "38378\t73,667\t$3.43\t$12.91\t $9.63\t$3.27\n",
      "46820\t75,768\t$1.60\t$9.74\t $7.01\t$2.74\n",
      "66037\t43,018\t$1.40\t$10.26\t $7.00\t$3.26\n",
      "33615\t64,313\t$1.83\t$8.38\t $6.18\t$2.20\n"
     ]
    }
   ],
   "source": [
    "# Sort the updated data by \"Total Profit\" form highest to lowest\n",
    "sorted_client_df = client_df1.sort_values(by=\"Profit$\", ascending=False)\n",
    "columns = list(sorted_client_df)\n",
    "count = int(sorted_client_df.shape[0])-1\n",
    "\n",
    "print(*columns)\n",
    "for i in range(count,-1,-1):\n",
    "    print(f\"{sorted_client_df.loc[i,'ClientID']:.0f}\\t{sorted_client_df.loc[i,'Units']:,.0f}\\t${sorted_client_df.loc[i,'Shipping$']:.2f}\\t${sorted_client_df.loc[i,'Revenue$']:.2f}\\t ${sorted_client_df.loc[i,'Cost$']:.2f}\\t${sorted_client_df.loc[i,'Profit$']:.2f}\")\n",
    "    \n"
   ]
  },
  {
   "cell_type": "code",
   "execution_count": null,
   "id": "6589d63c",
   "metadata": {},
   "outputs": [],
   "source": []
  }
 ],
 "metadata": {
  "kernelspec": {
   "display_name": "Python 3 (ipykernel)",
   "language": "python",
   "name": "python3"
  },
  "language_info": {
   "codemirror_mode": {
    "name": "ipython",
    "version": 3
   },
   "file_extension": ".py",
   "mimetype": "text/x-python",
   "name": "python",
   "nbconvert_exporter": "python",
   "pygments_lexer": "ipython3",
   "version": "3.10.14"
  }
 },
 "nbformat": 4,
 "nbformat_minor": 5
}
